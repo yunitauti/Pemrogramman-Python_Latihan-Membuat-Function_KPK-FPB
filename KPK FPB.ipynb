{
 "cells": [
  {
   "cell_type": "code",
   "execution_count": 9,
   "id": "bf552aff",
   "metadata": {},
   "outputs": [
    {
     "name": "stdout",
     "output_type": "stream",
     "text": [
      "Program Menghitung FPB dan KPK\n",
      "1. Hitung FPB\n",
      "2. Hitung KPK\n",
      "Pilih (1/2): 2\n",
      "Masukkan bilangan pertama (A): 12\n",
      "Masukkan bilangan kedua (B): 15\n",
      "KPK dari 12 dan 15 adalah: 60\n"
     ]
    }
   ],
   "source": [
    "def hitung_FPB(a, b):\n",
    "    while b:\n",
    "        a, b = b, a % b\n",
    "    return a\n",
    "\n",
    "def hitung_KPK(a, b):\n",
    "    kpk = (a*b) // hitung_FPB(a, b)\n",
    "    return kpk\n",
    "\n",
    "def main():\n",
    "    print(\"Program Menghitung FPB dan KPK\")\n",
    "    print(\"1. Hitung FPB\")\n",
    "    print(\"2. Hitung KPK\")\n",
    "    choice = input(\"Pilih (1/2): \")\n",
    "\n",
    "    if choice == '1':\n",
    "        bilangan_a = int(input(\"Masukkan bilangan pertama (A): \"))\n",
    "        bilangan_b = int(input(\"Masukkan bilangan kedua (B): \"))\n",
    "        fpb = hitung_FPB(bilangan_a, bilangan_b)\n",
    "        print(\"FPB dari\", bilangan_a, \"dan\", bilangan_b, \"adalah:\", fpb)\n",
    "    elif choice == '2':\n",
    "        bilangan_a = int(input(\"Masukkan bilangan pertama (A): \"))\n",
    "        bilangan_b = int(input(\"Masukkan bilangan kedua (B): \"))\n",
    "        kpk = hitung_KPK(bilangan_a, bilangan_b)\n",
    "        print(\"KPK dari\", bilangan_a, \"dan\", bilangan_b, \"adalah:\", kpk)\n",
    "    else:\n",
    "        print(\"Pilihan tidak valid. Program berhenti.\")\n",
    "\n",
    "if __name__ == \"__main__\":\n",
    "    main()\n"
   ]
  },
  {
   "cell_type": "code",
   "execution_count": null,
   "id": "7a88c934",
   "metadata": {},
   "outputs": [],
   "source": []
  },
  {
   "cell_type": "markdown",
   "id": "24333c5c",
   "metadata": {},
   "source": []
  }
 ],
 "metadata": {
  "kernelspec": {
   "display_name": "Python 3 (ipykernel)",
   "language": "python",
   "name": "python3"
  },
  "language_info": {
   "codemirror_mode": {
    "name": "ipython",
    "version": 3
   },
   "file_extension": ".py",
   "mimetype": "text/x-python",
   "name": "python",
   "nbconvert_exporter": "python",
   "pygments_lexer": "ipython3",
   "version": "3.11.5"
  }
 },
 "nbformat": 4,
 "nbformat_minor": 5
}
