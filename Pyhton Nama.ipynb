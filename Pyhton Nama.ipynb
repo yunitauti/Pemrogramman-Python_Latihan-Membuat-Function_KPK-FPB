{
 "cells": [
  {
   "cell_type": "code",
   "execution_count": 3,
   "id": "01855796",
   "metadata": {},
   "outputs": [
    {
     "name": "stdout",
     "output_type": "stream",
     "text": [
      "Masukkan nama lengkap Anda: Edward Snowden\n",
      "Jumlah huruf dari nama lengkap: 13\n",
      "Jumlah huruf vokal dari nama lengkap: 4\n",
      "Jumlah huruf konsonan dari nama lengkap: 9\n"
     ]
    }
   ],
   "source": [
    "def hitung_jumlah_huruf(nama):\n",
    "    jumlah_huruf = len(nama.replace(\" \", \"\"))\n",
    "    return jumlah_huruf\n",
    "\n",
    "def hitung_jumlah_vokal(nama):\n",
    "    vokal = 'aeiouAEIOU'\n",
    "    jumlah_vokal = sum(1 for huruf in nama if huruf in vokal)\n",
    "    return jumlah_vokal\n",
    "\n",
    "def hitung_jumlah_konsonan(nama):\n",
    "    konsonan = 'bcdfghjklmnpqrstvwxyzBCDFGHJKLMNPQRSTVWXYZ'\n",
    "    jumlah_konsonan = sum(1 for huruf in nama if huruf in konsonan)\n",
    "    return jumlah_konsonan\n",
    "\n",
    "nama_lengkap = input(\"Masukkan nama lengkap Anda: \")\n",
    "\n",
    "print(\"Jumlah huruf dari nama lengkap:\", hitung_jumlah_huruf(nama_lengkap))\n",
    "print(\"Jumlah huruf vokal dari nama lengkap:\", hitung_jumlah_vokal(nama_lengkap))\n",
    "print(\"Jumlah huruf konsonan dari nama lengkap:\", hitung_jumlah_konsonan(nama_lengkap))\n"
   ]
  },
  {
   "cell_type": "code",
   "execution_count": null,
   "id": "11dd934a",
   "metadata": {},
   "outputs": [],
   "source": []
  },
  {
   "cell_type": "code",
   "execution_count": null,
   "id": "6b0975c6",
   "metadata": {},
   "outputs": [],
   "source": []
  }
 ],
 "metadata": {
  "kernelspec": {
   "display_name": "Python 3 (ipykernel)",
   "language": "python",
   "name": "python3"
  },
  "language_info": {
   "codemirror_mode": {
    "name": "ipython",
    "version": 3
   },
   "file_extension": ".py",
   "mimetype": "text/x-python",
   "name": "python",
   "nbconvert_exporter": "python",
   "pygments_lexer": "ipython3",
   "version": "3.11.5"
  }
 },
 "nbformat": 4,
 "nbformat_minor": 5
}
